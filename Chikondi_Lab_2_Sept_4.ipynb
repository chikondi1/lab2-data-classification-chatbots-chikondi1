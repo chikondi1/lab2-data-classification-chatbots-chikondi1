{
  "nbformat": 4,
  "nbformat_minor": 0,
  "metadata": {
    "colab": {
      "name": "Chikondi Lab 2 Sept. 4 ",
      "provenance": [],
      "collapsed_sections": [],
      "authorship_tag": "ABX9TyPc7HxTcr2F2HGIT4dxkwZb",
      "include_colab_link": true
    },
    "kernelspec": {
      "name": "python3",
      "display_name": "Python 3"
    }
  },
  "cells": [
    {
      "cell_type": "markdown",
      "metadata": {
        "id": "view-in-github",
        "colab_type": "text"
      },
      "source": [
        "<a href=\"https://colab.research.google.com/github/chikondi1/lab2-data-classification-chatbots-chikondi1/blob/main/Chikondi_Lab_2_Sept_4.ipynb\" target=\"_parent\"><img src=\"https://colab.research.google.com/assets/colab-badge.svg\" alt=\"Open In Colab\"/></a>"
      ]
    },
    {
      "cell_type": "code",
      "metadata": {
        "id": "yH_tevMll4wG"
      },
      "source": [
        "'''\n",
        "Chikondi Thangata\n",
        "4 September 2020\n",
        "Lab 2: Data Classification & Chatbots\n",
        "This lab includes 2 scripts. The first one is classifying data when a user inputs a temperature in an integer value and the output displays if the temperature is hot, warm, cool, or cold. The second is a chatbot feature for a user to communicate with where inputs are user data and outputs allow them to see if they can get a drink from the bar. \n",
        "'''"
      ],
      "execution_count": null,
      "outputs": []
    },
    {
      "cell_type": "code",
      "metadata": {
        "id": "KvITd_qAmg2u"
      },
      "source": [
        "#This function classifies which numerical temperature will go into which category.\n",
        "class Temperature: \n",
        "  def feelTemp(x):\n",
        "    if x >= 100:\n",
        "      print(\"It is hot\")\n",
        "    elif x >= 70 and x < 100:\n",
        "      print(\"It is warm\")\n",
        "    elif x >= 32 and x < 70:\n",
        "      print(\"It is cool\")\n",
        "    elif x < 32:\n",
        "      print(\"It is cold\")\n",
        "\n",
        "#I added \"int\" to the beginning so that the program knows it is an integer as opposed to a string. \n",
        "  feelTemp(x = int(input('Enter temperature: ')))"
      ],
      "execution_count": null,
      "outputs": []
    },
    {
      "cell_type": "code",
      "metadata": {
        "id": "PwPNI-aSrX3N"
      },
      "source": [
        "#This code allows a user to interact with a chatbot at a bar to see if they can get a drink.\n",
        "\n",
        "name = input(\"Bot: Hello and welcome to Club Colab! What is your name? \") #allows user to input a string value when prompted\n",
        "print(\"You:\", name)\n",
        "print(\"Bot: Hi\", name,\". Please enter your age if you would like a drink.\") #bot uses string value input by user\n",
        "\n",
        "#this function allows the bot to respond to the user if they are underage or if they are of age to get a drink.\n",
        "class Age:\n",
        "  def age(x): \n",
        "    if x > 20: #if age is over 20 then they will be met with a positive respond\n",
        "      print(\"Bot: Over 21. Please grab your drink from the bar!\")\n",
        "    elif x < 20: #if age is below 21, they will be told to wait and it will show how many years to wait until they can get a drink\n",
        "      x = 21-x\n",
        "      print(\"Bot: Under 21. Sorry, please wait\", x, \"more years to have a drink from our bar.\")\n",
        "\n",
        "age(x = int(input(\"You: \")))"
      ],
      "execution_count": null,
      "outputs": []
    }
  ]
}